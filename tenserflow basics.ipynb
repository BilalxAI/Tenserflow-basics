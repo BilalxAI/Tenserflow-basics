{
 "cells": [
  {
   "cell_type": "markdown",
   "id": "5b3cfb98",
   "metadata": {},
   "source": [
    "# Tensorflow Basics"
   ]
  },
  {
   "cell_type": "markdown",
   "id": "cbaaa09b",
   "metadata": {},
   "source": [
    "TensorFlow is an open source software library for numerical computation using data flow graphs. In other words, the best way to build deep learning models."
   ]
  },
  {
   "cell_type": "markdown",
   "id": "02c2ffd0",
   "metadata": {},
   "source": [
    "In this tutorial, we will learn about the basics of TensorFlow. We will begin by understanding the data structure of tensor."
   ]
  },
  {
   "cell_type": "code",
   "execution_count": 8,
   "id": "f0f8b2cd",
   "metadata": {},
   "outputs": [],
   "source": [
    "import numpy as np\n",
    "import tensorflow as tf\n",
    "import tensorflow as tf\n",
    "tf.compat.v1.disable_eager_execution()\n",
    "import matplotlib.pyplot as plt"
   ]
  },
  {
   "cell_type": "code",
   "execution_count": 9,
   "id": "8a223369",
   "metadata": {},
   "outputs": [
    {
     "name": "stdout",
     "output_type": "stream",
     "text": [
      "[ 1.3   1.    4.   23.99]\n"
     ]
    }
   ],
   "source": [
    "import numpy as np\n",
    "tensor_1d = np.array([1.3, 1, 4.0, 23.99])\n",
    "print (tensor_1d)"
   ]
  },
  {
   "cell_type": "markdown",
   "id": "a93a62ad",
   "metadata": {},
   "source": [
    "We have initialized two matrix constants m1 and m2. dot_operation stores the result of matmul (matrix multiplication) of m1 and m2. tf.constant() creates a constant Tensor. tf.matmul() returns a Tensor of same type as m1 and m2."
   ]
  },
  {
   "cell_type": "code",
   "execution_count": 10,
   "id": "89c8dc7d",
   "metadata": {},
   "outputs": [],
   "source": [
    "m1 = tf.constant([[2,2]])\n",
    "m2 = tf.constant([[3],[3]])\n",
    "dot_operation = tf.matmul(m1,m2)\n",
    "\n",
    "    "
   ]
  },
  {
   "cell_type": "markdown",
   "id": "97f5a0af",
   "metadata": {},
   "source": [
    "The result won't get printed directly."
   ]
  },
  {
   "cell_type": "code",
   "execution_count": 11,
   "id": "185368df",
   "metadata": {},
   "outputs": [
    {
     "name": "stdout",
     "output_type": "stream",
     "text": [
      "Tensor(\"MatMul:0\", shape=(1, 1), dtype=int32)\n"
     ]
    }
   ],
   "source": [
    "print(dot_operation)"
   ]
  },
  {
   "cell_type": "markdown",
   "id": "6e1ae9f3",
   "metadata": {},
   "source": [
    "We need to create session and run the operation."
   ]
  },
  {
   "cell_type": "markdown",
   "id": "a743b12c",
   "metadata": {},
   "source": [
    "# What is a session in TensorFlow?\n",
    "A Session object encapsulates the environment in which Operation objects are executed, and Tensor objects are evaluated."
   ]
  },
  {
   "cell_type": "code",
   "execution_count": 13,
   "id": "6ce96d78",
   "metadata": {},
   "outputs": [
    {
     "name": "stdout",
     "output_type": "stream",
     "text": [
      "[[12]]\n"
     ]
    }
   ],
   "source": [
    "\n",
    "\n",
    "sess = tf.compat.v1.Session()\n",
    "print(sess.run(dot_operation))\n"
   ]
  },
  {
   "cell_type": "code",
   "execution_count": 26,
   "id": "e7baaf67",
   "metadata": {},
   "outputs": [
    {
     "name": "stdout",
     "output_type": "stream",
     "text": [
      "hi\n"
     ]
    }
   ],
   "source": [
    "with tf.Session() as sess:\n",
    "    a=\"hi\"\n",
    "    print(a)"
   ]
  },
  {
   "cell_type": "code",
   "execution_count": 14,
   "id": "c0bd7213",
   "metadata": {},
   "outputs": [
    {
     "name": "stdout",
     "output_type": "stream",
     "text": [
      "b'Hello, Welcome'\n"
     ]
    }
   ],
   "source": [
    "\n",
    "hello = tf.constant('Hello, Welcome')\n",
    "\n",
    "sess = tf.compat.v1.Session()\n",
    "\n",
    "print(sess.run(hello))"
   ]
  },
  {
   "cell_type": "markdown",
   "id": "9253b2d1",
   "metadata": {},
   "source": [
    "# Tensor Handling and Manipulations\n"
   ]
  },
  {
   "cell_type": "code",
   "execution_count": 34,
   "id": "9f74e658",
   "metadata": {},
   "outputs": [
    {
     "name": "stdout",
     "output_type": "stream",
     "text": [
      "matrix1\n",
      " [[2 2 2]\n",
      " [2 2 2]\n",
      " [2 2 2]]\n",
      "matrix2\n",
      " [[1 1 1]\n",
      " [1 1 1]\n",
      " [1 1 1]]\n"
     ]
    }
   ],
   "source": [
    "matrix1 = np.array([(2,2,2),(2,2,2),(2,2,2)],dtype = 'int32')\n",
    "matrix2 = np.array([(1,1,1),(1,1,1),(1,1,1)],dtype = 'int32')\n",
    "\n",
    "print (\"matrix1\\n\",matrix1)\n",
    "print (\"matrix2\\n\",matrix2)"
   ]
  },
  {
   "cell_type": "code",
   "execution_count": 35,
   "id": "64074b86",
   "metadata": {},
   "outputs": [],
   "source": [
    "matrix1 = tf.constant(matrix1)\n",
    "matrix2 = tf.constant(matrix2)\n",
    "matrix_product = tf.matmul(matrix1, matrix2)\n",
    "matrix_sum = tf.add(matrix1,matrix2)"
   ]
  },
  {
   "cell_type": "code",
   "execution_count": 37,
   "id": "c9bd1744",
   "metadata": {},
   "outputs": [
    {
     "name": "stdout",
     "output_type": "stream",
     "text": [
      "[[2. 7. 2.]\n",
      " [1. 4. 2.]\n",
      " [9. 0. 2.]]\n"
     ]
    }
   ],
   "source": [
    "matrix_3 = np.array([(2,7,2),(1,4,2),(9,0,2)],dtype = 'float32')\n",
    "print (matrix_3)\n",
    "matrix_det = tf.matrix_determinant(matrix_3)"
   ]
  },
  {
   "cell_type": "code",
   "execution_count": 40,
   "id": "7fbe439e",
   "metadata": {},
   "outputs": [
    {
     "name": "stdout",
     "output_type": "stream",
     "text": [
      "matrix_product\n",
      " [[6 6 6]\n",
      " [6 6 6]\n",
      " [6 6 6]]\n",
      "matrix_sum\n",
      " [[3 3 3]\n",
      " [3 3 3]\n",
      " [3 3 3]]\n",
      "matrix_determinet= 55.999992\n"
     ]
    }
   ],
   "source": [
    "with tf.Session() as sess:\n",
    "   result1 = sess.run(matrix_product)\n",
    "   result2 = sess.run(matrix_sum)\n",
    "   result3 = sess.run(matrix_det)\n",
    "\n",
    "print (\"matrix_product\\n\",result1)\n",
    "print (\"matrix_sum\\n\",result2)\n",
    "print (\"matrix_determinet=\",result3)"
   ]
  },
  {
   "cell_type": "markdown",
   "id": "892de015",
   "metadata": {},
   "source": [
    "# Explanation\n",
    "We have created multidimensional arrays in the above source code. Now, it is important to understand that we created graph and sessions, which manage the Tensors and generate the appropriate output. With the help of graph, we have the output specifying the mathematical calculations between Tensors."
   ]
  },
  {
   "cell_type": "markdown",
   "id": "a45145ee",
   "metadata": {},
   "source": [
    "# Variables\n",
    "A TensorFlow variable is a way to represent shared, persistent state manipulated by your program. A tf.Variable exsts outside the context of a single session.run call. This happens even for the variables defined in the session. sess.run(tf.global_variables_initializer()) initializes all global variables."
   ]
  },
  {
   "cell_type": "code",
   "execution_count": 42,
   "id": "1403fbac",
   "metadata": {},
   "outputs": [],
   "source": [
    "var = tf.Variable(8)"
   ]
  },
  {
   "cell_type": "code",
   "execution_count": 48,
   "id": "b232cf3b",
   "metadata": {},
   "outputs": [],
   "source": [
    "add_operation = tf.add(var, 1)          # returns var + 1 of same type as var\n",
    "update_operation = tf.assign(var, add_operation)      # var will hold new value add_operation"
   ]
  },
  {
   "cell_type": "markdown",
   "id": "22452aff",
   "metadata": {},
   "source": [
    "tf.assign() is the method available in the Variable class which is used to assign the new tf.Tensor to the variable. The new value must have the same shape and dtype as the old Variable value."
   ]
  },
  {
   "cell_type": "code",
   "execution_count": 55,
   "id": "87851ef3",
   "metadata": {},
   "outputs": [
    {
     "name": "stdout",
     "output_type": "stream",
     "text": [
      "9\n",
      "10\n",
      "11\n"
     ]
    }
   ],
   "source": [
    "with tf.Session() as sess:\n",
    "    sess.run(tf.global_variables_initializer())\n",
    "    for _ in range(3):\n",
    "        sess.run(update_operation)\n",
    "        print(sess.run(var))"
   ]
  },
  {
   "cell_type": "markdown",
   "id": "4c925ff4",
   "metadata": {},
   "source": [
    "# Placeholder\n",
    "A placeholder is a variable to which we assign data to a later date. It allows us to create out operations and buid our computation graph, without needing the data. In TensorFlow terms, we feed the data into the graph through these placeholders."
   ]
  },
  {
   "cell_type": "code",
   "execution_count": 60,
   "id": "8b148147",
   "metadata": {},
   "outputs": [],
   "source": [
    "x1 = tf.placeholder(dtype=tf.float32, shape=None)\n",
    "y1 = tf.placeholder(dtype=tf.float32, shape=None)\n",
    "z1 = x1 + y1"
   ]
  },
  {
   "cell_type": "code",
   "execution_count": 61,
   "id": "25b6894c",
   "metadata": {},
   "outputs": [],
   "source": [
    "x2 = tf.placeholder(dtype=tf.float32, shape=[2,1])\n",
    "y2 = tf.placeholder(dtype=tf.float32, shape=[1,2])\n",
    "z2 = tf.matmul(x2, y2)"
   ]
  },
  {
   "cell_type": "code",
   "execution_count": 67,
   "id": "b720686c",
   "metadata": {},
   "outputs": [
    {
     "name": "stdout",
     "output_type": "stream",
     "text": [
      "5.0\n",
      "3.0\n",
      "[[6. 6.]\n",
      " [9. 9.]]\n"
     ]
    }
   ],
   "source": [
    "with tf.Session() as sess:\n",
    "    # running one operation\n",
    "    x1_value = sess.run(x1, feed_dict={x1: 5})\n",
    "    print(x1_value)\n",
    "    \n",
    "    # running two operations at once\n",
    "    z1_value, z2_value = sess.run(\n",
    "    [z1, z2],\n",
    "    feed_dict = {\n",
    "        x1:1, y1:2,\n",
    "        x2:[[2],[3]], y2:[[3,3]]\n",
    "    })\n",
    "    print(z1_value)\n",
    "    print(z2_value)"
   ]
  },
  {
   "cell_type": "markdown",
   "id": "b975937f",
   "metadata": {},
   "source": [
    "While working with TensorFlow many times we need to generate evenly-spaced values in an interval. tensorflow. linspace(): This method takes starting tensor, ending tensor, number of values and axis and returns a Tensor with specified number of evenly spaced values"
   ]
  },
  {
   "cell_type": "code",
   "execution_count": 16,
   "id": "6ff6784b",
   "metadata": {},
   "outputs": [],
   "source": [
    "n_values = 32\n",
    "x = tf.linspace(-3.0, 3.0, n_values)"
   ]
  },
  {
   "cell_type": "code",
   "execution_count": 17,
   "id": "f2b3fdd1",
   "metadata": {},
   "outputs": [
    {
     "name": "stdout",
     "output_type": "stream",
     "text": [
      "[-3.         -2.8064516  -2.612903   -2.419355   -2.2258065  -2.032258\n",
      " -1.8387097  -1.6451614  -1.451613   -1.2580645  -1.0645162  -0.87096786\n",
      " -0.6774194  -0.48387098 -0.29032278 -0.09677434  0.0967741   0.29032254\n",
      "  0.48387098  0.6774192   0.8709676   1.0645161   1.2580643   1.451613\n",
      "  1.6451612   1.8387094   2.032258    2.2258062   2.4193544   2.612903\n",
      "  2.8064513   3.        ]\n"
     ]
    }
   ],
   "source": [
    "sess = tf.compat.v1.Session()\n",
    "\n",
    "print(sess.run(x))"
   ]
  },
  {
   "cell_type": "code",
   "execution_count": 77,
   "id": "79dcb095",
   "metadata": {},
   "outputs": [
    {
     "data": {
      "text/plain": [
       "array([-3.        , -2.8064516 , -2.612903  , -2.419355  , -2.2258065 ,\n",
       "       -2.032258  , -1.8387097 , -1.6451614 , -1.451613  , -1.2580645 ,\n",
       "       -1.0645162 , -0.87096786, -0.6774194 , -0.48387098, -0.29032278,\n",
       "       -0.09677434,  0.0967741 ,  0.29032254,  0.48387098,  0.6774192 ,\n",
       "        0.8709676 ,  1.0645161 ,  1.2580643 ,  1.451613  ,  1.6451612 ,\n",
       "        1.8387094 ,  2.032258  ,  2.2258062 ,  2.4193544 ,  2.612903  ,\n",
       "        2.8064513 ,  3.        ], dtype=float32)"
      ]
     },
     "execution_count": 77,
     "metadata": {},
     "output_type": "execute_result"
    }
   ],
   "source": [
    "x.eval(session=sess)"
   ]
  },
  {
   "cell_type": "code",
   "execution_count": 21,
   "id": "ea3f6f59",
   "metadata": {},
   "outputs": [
    {
     "name": "stdout",
     "output_type": "stream",
     "text": [
      "Tensor(\"ones_1:0\", shape=(3, 2), dtype=int32)\n",
      "[[1 1]\n",
      " [1 1]\n",
      " [1 1]]\n"
     ]
    }
   ],
   "source": [
    "A1=tf.ones([3,2], tf.int32)\n",
    "print(A1)\n",
    "sess = tf.compat.v1.Session()\n",
    "\n",
    "print(sess.run(A1))\n",
    "\n"
   ]
  },
  {
   "cell_type": "code",
   "execution_count": 22,
   "id": "0af0cfc8",
   "metadata": {},
   "outputs": [
    {
     "name": "stdout",
     "output_type": "stream",
     "text": [
      "Tensor(\"zeros_1:0\", shape=(3, 2), dtype=float32)\n",
      "[[0. 0.]\n",
      " [0. 0.]\n",
      " [0. 0.]]\n"
     ]
    }
   ],
   "source": [
    "\n",
    "    \n",
    "    #Zeros function\n",
    "B1=tf.zeros([3,2])\n",
    "print(B1)\n",
    "sess = tf.compat.v1.Session()\n",
    "\n",
    "print(sess.run(B1))\n",
    "\n"
   ]
  },
  {
   "cell_type": "code",
   "execution_count": 25,
   "id": "1f0b5a4f",
   "metadata": {},
   "outputs": [
    {
     "name": "stdout",
     "output_type": "stream",
     "text": [
      "[1 1 1 1]\n",
      "[[1 1 1]\n",
      " [1 1 1]]\n"
     ]
    }
   ],
   "source": [
    "A1=tf.constant([1,2,3,4])\n",
    "A23=tf.constant([[1,2,3], [4,5,6]])\n",
    "\n",
    "#create ones tensor and perform element wise multiplication\n",
    "B1=tf.ones_like(A1)\n",
    "B23=tf.ones_like(A23)\n",
    "\n",
    "\n",
    "print(sess.run(B1))\n",
    "print(sess.run(B23))\n"
   ]
  },
  {
   "cell_type": "code",
   "execution_count": 30,
   "id": "1aebf342",
   "metadata": {},
   "outputs": [
    {
     "name": "stdout",
     "output_type": "stream",
     "text": [
      "[[7 7 7]\n",
      " [7 7 7]\n",
      " [7 7 7]]\n"
     ]
    }
   ],
   "source": [
    "#fill method\n",
    "c33=tf.fill([3,3], 7)\n",
    "\n",
    "print(sess.run(c33))"
   ]
  },
  {
   "cell_type": "markdown",
   "id": "95ec4510",
   "metadata": {},
   "source": [
    "# Thank you\n",
    "## Author"
   ]
  },
  {
   "cell_type": "markdown",
   "id": "0d84fa59",
   "metadata": {},
   "source": [
    "<a href=\"https://www.linkedin.com/in/muhammad-bilal-afzal-95b33323b/\">MUHAMMAD BILAL</a>"
   ]
  }
 ],
 "metadata": {
  "kernelspec": {
   "display_name": "Python 3 (ipykernel)",
   "language": "python",
   "name": "python3"
  },
  "language_info": {
   "codemirror_mode": {
    "name": "ipython",
    "version": 3
   },
   "file_extension": ".py",
   "mimetype": "text/x-python",
   "name": "python",
   "nbconvert_exporter": "python",
   "pygments_lexer": "ipython3",
   "version": "3.9.12"
  }
 },
 "nbformat": 4,
 "nbformat_minor": 5
}
